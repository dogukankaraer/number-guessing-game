{
 "cells": [
  {
   "cell_type": "code",
   "execution_count": null,
   "id": "8850f449-f7f1-4741-9082-4deaed378c9c",
   "metadata": {},
   "outputs": [],
   "source": [
    "#First project of Dogukan Karaer's made by own himself :)\n",
    "\n",
    "import random\n",
    "play_again = \"yes\"\n",
    "secret_number = random.randint(1, 10)\n",
    "guess = None\n",
    "attempts = 0\n",
    "while guess!= secret_number:\n",
    "    guess = int(input(\"Guess a number between 1 and 10: \"))\n",
    "    attempts += 1\n",
    "    if guess < secret_number:\n",
    "        print(\"Too low! Try again.\")\n",
    "    elif guess > secret_number:\n",
    "        print(\"Too high! Try again.\")\n",
    "    else:\n",
    "        print(\"Correct! You guessed the number.\")\n",
    "        play_again = input(\"Do you wanto to play again tough guy? (yes/no): \")"
   ]
  },
  {
   "cell_type": "code",
   "execution_count": null,
   "id": "5a376d52-2e6b-4af2-91d0-e7fbcbf3ca4e",
   "metadata": {},
   "outputs": [],
   "source": []
  }
 ],
 "metadata": {
  "kernelspec": {
   "display_name": "Python [conda env:base] *",
   "language": "python",
   "name": "conda-base-py"
  },
  "language_info": {
   "codemirror_mode": {
    "name": "ipython",
    "version": 3
   },
   "file_extension": ".py",
   "mimetype": "text/x-python",
   "name": "python",
   "nbconvert_exporter": "python",
   "pygments_lexer": "ipython3",
   "version": "3.12.7"
  }
 },
 "nbformat": 4,
 "nbformat_minor": 5
}
